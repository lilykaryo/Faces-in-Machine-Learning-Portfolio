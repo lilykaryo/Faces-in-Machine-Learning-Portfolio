{
  "nbformat": 4,
  "nbformat_minor": 0,
  "metadata": {
    "colab": {
      "provenance": []
    },
    "kernelspec": {
      "name": "python3",
      "display_name": "Python 3"
    },
    "language_info": {
      "name": "python"
    }
  },
  "cells": [
    {
      "cell_type": "code",
      "execution_count": null,
      "metadata": {
        "colab": {
          "base_uri": "https://localhost:8080/"
        },
        "id": "5zFyTauJGtGk",
        "outputId": "769a40a5-2c6b-43e0-a65b-f8497bd33cc4"
      },
      "outputs": [
        {
          "output_type": "stream",
          "name": "stdout",
          "text": [
            "Number of training images: 8016\n",
            "Number of testing images: 2004\n"
          ]
        }
      ],
      "source": [
        "import os\n",
        "import random\n",
        "import shutil\n",
        "from sklearn.model_selection import train_test_split\n",
        "\n",
        "def shuffle_and_split_data(directory, test_size=0.2, random_state=42):\n",
        "    # List all files in the directory\n",
        "    files = os.listdir(directory)\n",
        "\n",
        "    # Filter out non-image files if any\n",
        "    image_files = [file for file in files if file.endswith(('png', 'jpg', 'jpeg'))]\n",
        "\n",
        "    # Shuffle the list of image files\n",
        "    random.shuffle(image_files)\n",
        "\n",
        "    # Split the list of image files into train and test sets\n",
        "    train_files, test_files = train_test_split(image_files, test_size=test_size, random_state=random_state)\n",
        "\n",
        "    return train_files, test_files\n",
        "\n",
        "# Function to move files to a destination directory\n",
        "def move_files(files, source_directory, destination_directory):\n",
        "    for file in files:\n",
        "        source_path = os.path.join(source_directory, file)\n",
        "        destination_path = os.path.join(destination_directory, file)\n",
        "        shutil.move(source_path, destination_path)\n",
        "\n",
        "# Example usage:\n",
        "directory_path = \"/content/drive/MyDrive/abroad/NN/Resized Avatar\"\n",
        "train_files, test_files = shuffle_and_split_data(directory_path)\n",
        "\n",
        "# Destination directories\n",
        "train_destination_directory = \"/content/drive/MyDrive/abroad/NN/Split images/TrainA\"\n",
        "test_destination_directory = \"/content/drive/MyDrive/abroad/NN/Split images/TestA\"\n",
        "\n",
        "# Move train files\n",
        "move_files(train_files, directory_path, train_destination_directory)\n",
        "\n",
        "# Move test files\n",
        "move_files(test_files, directory_path, test_destination_directory)\n",
        "\n",
        "print(\"Number of training images:\", len(train_files))\n",
        "print(\"Number of testing images:\", len(test_files))"
      ]
    },
    {
      "cell_type": "code",
      "source": [
        "def shuffle_and_split_data(directory, test_size=0.2, random_state=42):\n",
        "    # List all files in the directory\n",
        "    files = os.listdir(directory)\n",
        "\n",
        "    # Filter out non-image files if any\n",
        "    image_files = [file for file in files if file.endswith(('png', 'jpg', 'jpeg'))]\n",
        "\n",
        "    # Shuffle the list of image files\n",
        "    random.shuffle(image_files)\n",
        "\n",
        "    # Split the list of image files into train and test sets\n",
        "    train_files, test_files = train_test_split(image_files, test_size=test_size, random_state=random_state)\n",
        "\n",
        "    return train_files, test_files\n",
        "\n",
        "# Function to move files to a destination directory\n",
        "def move_files(files, source_directory, destination_directory):\n",
        "    for file in files:\n",
        "        source_path = os.path.join(source_directory, file)\n",
        "        destination_path = os.path.join(destination_directory, file)\n",
        "        shutil.move(source_path, destination_path)\n",
        "\n",
        "# Example usage:\n",
        "directory_path = \"/content/drive/MyDrive/abroad/NN/Resized Faces\"\n",
        "train_files, test_files = shuffle_and_split_data(directory_path)\n",
        "\n",
        "# Destination directories\n",
        "train_destination_directory = \"/content/drive/MyDrive/abroad/NN/Split images/TrainF\"\n",
        "test_destination_directory = \"/content/drive/MyDrive/abroad/NN/Split images/TestF\"\n",
        "\n",
        "# Move train files\n",
        "move_files(train_files, directory_path, train_destination_directory)\n",
        "\n",
        "# Move test files\n",
        "move_files(test_files, directory_path, test_destination_directory)"
      ],
      "metadata": {
        "id": "NIiF65bPPcZk"
      },
      "execution_count": null,
      "outputs": []
    },
    {
      "cell_type": "code",
      "source": [
        "print(\"Number of training images:\", len(train_files))\n",
        "print(\"Number of testing images:\", len(test_files))"
      ],
      "metadata": {
        "id": "HaA8SlpHYnX7",
        "outputId": "865971cf-9286-42e3-b556-d7159afbf055",
        "colab": {
          "base_uri": "https://localhost:8080/"
        }
      },
      "execution_count": null,
      "outputs": [
        {
          "output_type": "stream",
          "name": "stdout",
          "text": [
            "Number of training images: 4344\n",
            "Number of testing images: 1086\n"
          ]
        }
      ]
    }
  ]
}